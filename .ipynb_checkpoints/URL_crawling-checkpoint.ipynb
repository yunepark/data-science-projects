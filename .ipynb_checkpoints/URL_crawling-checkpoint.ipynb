{
 "cells": [
  {
   "cell_type": "code",
   "execution_count": 1,
   "id": "50e353f5",
   "metadata": {},
   "outputs": [],
   "source": [
    "import pandas as pd\n",
    "from selenium import webdriver\n",
    "from selenium.webdriver.common.keys import Keys \n",
    "from selenium.common.exceptions import NoSuchElementException\n",
    "from webdriver_manager.chrome import ChromeDriverManager\n",
    "from requests.adapters import HTTPAdapter\n",
    "from selenium.webdriver.common.by import By\n",
    "\n",
    "import time\n",
    "import re\n",
    "from bs4 import BeautifulSoup \n",
    "from tqdm import tqdm \n",
    "import requests\n",
    "from urllib3.util.retry import Retry"
   ]
  },
  {
   "cell_type": "code",
   "execution_count": 2,
   "id": "ba986529",
   "metadata": {},
   "outputs": [
    {
     "name": "stderr",
     "output_type": "stream",
     "text": [
      "/var/folders/lz/cz1t22x139bgp1h64fpf_8rm0000gn/T/ipykernel_73699/2020112807.py:1: DeprecationWarning: executable_path has been deprecated, please pass in a Service object\n",
      "  driver = webdriver.Chrome(ChromeDriverManager().install())\n"
     ]
    }
   ],
   "source": [
    "driver = webdriver.Chrome(ChromeDriverManager().install())\n",
    "res = driver.get('https://map.naver.com/v5/search/%EC%9D%8C%EC%8B%9D%EC%A0%90?c=15,0,0,0,dh')\n",
    "driver.implicitly_wait(20)"
   ]
  },
  {
   "cell_type": "code",
   "execution_count": 5,
   "id": "2ed425f7",
   "metadata": {},
   "outputs": [
    {
     "ename": "AttributeError",
     "evalue": "'WebDriver' object has no attribute 'find_element_by_tag_name'",
     "output_type": "error",
     "traceback": [
      "\u001b[0;31m---------------------------------------------------------------------------\u001b[0m",
      "\u001b[0;31mAttributeError\u001b[0m                            Traceback (most recent call last)",
      "Cell \u001b[0;32mIn[5], line 8\u001b[0m\n\u001b[1;32m      5\u001b[0m driver\u001b[38;5;241m.\u001b[39mget(\u001b[38;5;124m'\u001b[39m\u001b[38;5;124mhttps://map.naver.com/v5/search/\u001b[39m\u001b[38;5;132;01m%E\u001b[39;00m\u001b[38;5;124mC\u001b[39m\u001b[38;5;124m%\u001b[39m\u001b[38;5;124m9D\u001b[39m\u001b[38;5;124m%\u001b[39m\u001b[38;5;124m8C\u001b[39m\u001b[38;5;132;01m%E\u001b[39;00m\u001b[38;5;124mC\u001b[39m\u001b[38;5;124m%\u001b[39m\u001b[38;5;124m8B\u001b[39m\u001b[38;5;124m%\u001b[39m\u001b[38;5;124m9D\u001b[39m\u001b[38;5;132;01m%E\u001b[39;00m\u001b[38;5;124mC\u001b[39m\u001b[38;5;124m%\u001b[39m\u001b[38;5;124mA0\u001b[39m\u001b[38;5;124m%\u001b[39m\u001b[38;5;124m90?c=15,0,0,0,dh\u001b[39m\u001b[38;5;124m'\u001b[39m)\n\u001b[1;32m      7\u001b[0m \u001b[38;5;66;03m# Scroll down to the bottom of the page\u001b[39;00m\n\u001b[0;32m----> 8\u001b[0m \u001b[43mdriver\u001b[49m\u001b[38;5;241;43m.\u001b[39;49m\u001b[43mfind_element_by_tag_name\u001b[49m(\u001b[38;5;124m'\u001b[39m\u001b[38;5;124mbody\u001b[39m\u001b[38;5;124m'\u001b[39m)\u001b[38;5;241m.\u001b[39msend_keys(Keys\u001b[38;5;241m.\u001b[39mEND)\n\u001b[1;32m      9\u001b[0m time\u001b[38;5;241m.\u001b[39msleep(\u001b[38;5;241m2\u001b[39m)  \u001b[38;5;66;03m# Wait for the page to load\u001b[39;00m\n\u001b[1;32m     11\u001b[0m \u001b[38;5;66;03m# Scroll up to the top of the page\u001b[39;00m\n",
      "\u001b[0;31mAttributeError\u001b[0m: 'WebDriver' object has no attribute 'find_element_by_tag_name'"
     ]
    }
   ],
   "source": [
    "# Launch the browser\n",
    "driver = webdriver.Chrome()\n",
    "\n",
    "# Open the desired webpage\n",
    "driver.get('https://map.naver.com/v5/search/%EC%9D%8C%EC%8B%9D%EC%A0%90?c=15,0,0,0,dh')\n",
    "\n",
    "# Scroll down to the bottom of the page\n",
    "driver.find_element_by_tag_name('body').send_keys(Keys.END)\n",
    "time.sleep(2)  # Wait for the page to load\n",
    "\n",
    "# Scroll up to the top of the page\n",
    "driver.find_element_by_tag_name('body').send_keys(Keys.HOME)\n",
    "time.sleep(2)  # Wait for the page to load"
   ]
  },
  {
   "cell_type": "code",
   "execution_count": 4,
   "id": "78c45800",
   "metadata": {},
   "outputs": [
    {
     "ename": "NoSuchElementException",
     "evalue": "Message: no such element: Unable to locate element: {\"method\":\"xpath\",\"selector\":\"//*[@id=\"_list_scroll_container\"]/div/div/div[1]/div/div/a[2]\"}\n  (Session info: chrome=113.0.5672.92)\nStacktrace:\n0   chromedriver                        0x0000000100c4b598 chromedriver + 4973976\n1   chromedriver                        0x0000000100c42913 chromedriver + 4938003\n2   chromedriver                        0x00000001007ffcd6 chromedriver + 470230\n3   chromedriver                        0x00000001008432ff chromedriver + 746239\n4   chromedriver                        0x0000000100843591 chromedriver + 746897\n5   chromedriver                        0x0000000100885384 chromedriver + 1016708\n6   chromedriver                        0x00000001008679ed chromedriver + 895469\n7   chromedriver                        0x0000000100882856 chromedriver + 1005654\n8   chromedriver                        0x0000000100867793 chromedriver + 894867\n9   chromedriver                        0x000000010083521f chromedriver + 688671\n10  chromedriver                        0x000000010083656e chromedriver + 693614\n11  chromedriver                        0x0000000100c05bb7 chromedriver + 4688823\n12  chromedriver                        0x0000000100c0aa51 chromedriver + 4708945\n13  chromedriver                        0x0000000100c1140f chromedriver + 4736015\n14  chromedriver                        0x0000000100c0b91a chromedriver + 4712730\n15  chromedriver                        0x0000000100bde87c chromedriver + 4528252\n16  chromedriver                        0x0000000100c2af28 chromedriver + 4841256\n17  chromedriver                        0x0000000100c2b0a7 chromedriver + 4841639\n18  chromedriver                        0x0000000100c3c28f chromedriver + 4911759\n19  libsystem_pthread.dylib             0x00007ff816c961d3 _pthread_start + 125\n20  libsystem_pthread.dylib             0x00007ff816c91bd3 thread_start + 15\n",
     "output_type": "error",
     "traceback": [
      "\u001b[0;31m---------------------------------------------------------------------------\u001b[0m",
      "\u001b[0;31mNoSuchElementException\u001b[0m                    Traceback (most recent call last)",
      "Cell \u001b[0;32mIn[4], line 2\u001b[0m\n\u001b[1;32m      1\u001b[0m \u001b[38;5;66;03m#body부분을 잡기 위해 쓸데없이 버튼을 클릭해줌\u001b[39;00m\n\u001b[0;32m----> 2\u001b[0m \u001b[43mdriver\u001b[49m\u001b[38;5;241;43m.\u001b[39;49m\u001b[43mfind_element\u001b[49m\u001b[43m(\u001b[49m\u001b[43mBy\u001b[49m\u001b[38;5;241;43m.\u001b[39;49m\u001b[43mXPATH\u001b[49m\u001b[43m,\u001b[49m\u001b[43m \u001b[49m\u001b[38;5;124;43m'\u001b[39;49m\u001b[38;5;124;43m//*[@id=\u001b[39;49m\u001b[38;5;124;43m\"\u001b[39;49m\u001b[38;5;124;43m_list_scroll_container\u001b[39;49m\u001b[38;5;124;43m\"\u001b[39;49m\u001b[38;5;124;43m]/div/div/div[1]/div/div/a[2]\u001b[39;49m\u001b[38;5;124;43m'\u001b[39;49m\u001b[43m)\u001b[49m\u001b[38;5;241m.\u001b[39mclick()\n\u001b[1;32m      3\u001b[0m driver\u001b[38;5;241m.\u001b[39mfind_element(By\u001b[38;5;241m.\u001b[39mXPATH, \u001b[38;5;124m'\u001b[39m\u001b[38;5;124m//*[@id=\u001b[39m\u001b[38;5;124m\"\u001b[39m\u001b[38;5;124m_list_scroll_container\u001b[39m\u001b[38;5;124m\"\u001b[39m\u001b[38;5;124m]/div/div/div[1]/div/div/a[1]\u001b[39m\u001b[38;5;124m'\u001b[39m)\u001b[38;5;241m.\u001b[39mclick()\n\u001b[1;32m      5\u001b[0m \u001b[38;5;66;03m#검색결과가 모두 보이지 않기 때문에 page down을 눌러 끝까지 펼쳐준다.\u001b[39;00m\n",
      "File \u001b[0;32m/Library/Frameworks/Python.framework/Versions/3.11/lib/python3.11/site-packages/selenium/webdriver/remote/webdriver.py:831\u001b[0m, in \u001b[0;36mWebDriver.find_element\u001b[0;34m(self, by, value)\u001b[0m\n\u001b[1;32m    828\u001b[0m     by \u001b[38;5;241m=\u001b[39m By\u001b[38;5;241m.\u001b[39mCSS_SELECTOR\n\u001b[1;32m    829\u001b[0m     value \u001b[38;5;241m=\u001b[39m \u001b[38;5;124mf\u001b[39m\u001b[38;5;124m'\u001b[39m\u001b[38;5;124m[name=\u001b[39m\u001b[38;5;124m\"\u001b[39m\u001b[38;5;132;01m{\u001b[39;00mvalue\u001b[38;5;132;01m}\u001b[39;00m\u001b[38;5;124m\"\u001b[39m\u001b[38;5;124m]\u001b[39m\u001b[38;5;124m'\u001b[39m\n\u001b[0;32m--> 831\u001b[0m \u001b[38;5;28;01mreturn\u001b[39;00m \u001b[38;5;28;43mself\u001b[39;49m\u001b[38;5;241;43m.\u001b[39;49m\u001b[43mexecute\u001b[49m\u001b[43m(\u001b[49m\u001b[43mCommand\u001b[49m\u001b[38;5;241;43m.\u001b[39;49m\u001b[43mFIND_ELEMENT\u001b[49m\u001b[43m,\u001b[49m\u001b[43m \u001b[49m\u001b[43m{\u001b[49m\u001b[38;5;124;43m\"\u001b[39;49m\u001b[38;5;124;43musing\u001b[39;49m\u001b[38;5;124;43m\"\u001b[39;49m\u001b[43m:\u001b[49m\u001b[43m \u001b[49m\u001b[43mby\u001b[49m\u001b[43m,\u001b[49m\u001b[43m \u001b[49m\u001b[38;5;124;43m\"\u001b[39;49m\u001b[38;5;124;43mvalue\u001b[39;49m\u001b[38;5;124;43m\"\u001b[39;49m\u001b[43m:\u001b[49m\u001b[43m \u001b[49m\u001b[43mvalue\u001b[49m\u001b[43m}\u001b[49m\u001b[43m)\u001b[49m[\u001b[38;5;124m\"\u001b[39m\u001b[38;5;124mvalue\u001b[39m\u001b[38;5;124m\"\u001b[39m]\n",
      "File \u001b[0;32m/Library/Frameworks/Python.framework/Versions/3.11/lib/python3.11/site-packages/selenium/webdriver/remote/webdriver.py:440\u001b[0m, in \u001b[0;36mWebDriver.execute\u001b[0;34m(self, driver_command, params)\u001b[0m\n\u001b[1;32m    438\u001b[0m response \u001b[38;5;241m=\u001b[39m \u001b[38;5;28mself\u001b[39m\u001b[38;5;241m.\u001b[39mcommand_executor\u001b[38;5;241m.\u001b[39mexecute(driver_command, params)\n\u001b[1;32m    439\u001b[0m \u001b[38;5;28;01mif\u001b[39;00m response:\n\u001b[0;32m--> 440\u001b[0m     \u001b[38;5;28;43mself\u001b[39;49m\u001b[38;5;241;43m.\u001b[39;49m\u001b[43merror_handler\u001b[49m\u001b[38;5;241;43m.\u001b[39;49m\u001b[43mcheck_response\u001b[49m\u001b[43m(\u001b[49m\u001b[43mresponse\u001b[49m\u001b[43m)\u001b[49m\n\u001b[1;32m    441\u001b[0m     response[\u001b[38;5;124m\"\u001b[39m\u001b[38;5;124mvalue\u001b[39m\u001b[38;5;124m\"\u001b[39m] \u001b[38;5;241m=\u001b[39m \u001b[38;5;28mself\u001b[39m\u001b[38;5;241m.\u001b[39m_unwrap_value(response\u001b[38;5;241m.\u001b[39mget(\u001b[38;5;124m\"\u001b[39m\u001b[38;5;124mvalue\u001b[39m\u001b[38;5;124m\"\u001b[39m, \u001b[38;5;28;01mNone\u001b[39;00m))\n\u001b[1;32m    442\u001b[0m     \u001b[38;5;28;01mreturn\u001b[39;00m response\n",
      "File \u001b[0;32m/Library/Frameworks/Python.framework/Versions/3.11/lib/python3.11/site-packages/selenium/webdriver/remote/errorhandler.py:245\u001b[0m, in \u001b[0;36mErrorHandler.check_response\u001b[0;34m(self, response)\u001b[0m\n\u001b[1;32m    243\u001b[0m         alert_text \u001b[38;5;241m=\u001b[39m value[\u001b[38;5;124m\"\u001b[39m\u001b[38;5;124malert\u001b[39m\u001b[38;5;124m\"\u001b[39m]\u001b[38;5;241m.\u001b[39mget(\u001b[38;5;124m\"\u001b[39m\u001b[38;5;124mtext\u001b[39m\u001b[38;5;124m\"\u001b[39m)\n\u001b[1;32m    244\u001b[0m     \u001b[38;5;28;01mraise\u001b[39;00m exception_class(message, screen, stacktrace, alert_text)  \u001b[38;5;66;03m# type: ignore[call-arg]  # mypy is not smart enough here\u001b[39;00m\n\u001b[0;32m--> 245\u001b[0m \u001b[38;5;28;01mraise\u001b[39;00m exception_class(message, screen, stacktrace)\n",
      "\u001b[0;31mNoSuchElementException\u001b[0m: Message: no such element: Unable to locate element: {\"method\":\"xpath\",\"selector\":\"//*[@id=\"_list_scroll_container\"]/div/div/div[1]/div/div/a[2]\"}\n  (Session info: chrome=113.0.5672.92)\nStacktrace:\n0   chromedriver                        0x0000000100c4b598 chromedriver + 4973976\n1   chromedriver                        0x0000000100c42913 chromedriver + 4938003\n2   chromedriver                        0x00000001007ffcd6 chromedriver + 470230\n3   chromedriver                        0x00000001008432ff chromedriver + 746239\n4   chromedriver                        0x0000000100843591 chromedriver + 746897\n5   chromedriver                        0x0000000100885384 chromedriver + 1016708\n6   chromedriver                        0x00000001008679ed chromedriver + 895469\n7   chromedriver                        0x0000000100882856 chromedriver + 1005654\n8   chromedriver                        0x0000000100867793 chromedriver + 894867\n9   chromedriver                        0x000000010083521f chromedriver + 688671\n10  chromedriver                        0x000000010083656e chromedriver + 693614\n11  chromedriver                        0x0000000100c05bb7 chromedriver + 4688823\n12  chromedriver                        0x0000000100c0aa51 chromedriver + 4708945\n13  chromedriver                        0x0000000100c1140f chromedriver + 4736015\n14  chromedriver                        0x0000000100c0b91a chromedriver + 4712730\n15  chromedriver                        0x0000000100bde87c chromedriver + 4528252\n16  chromedriver                        0x0000000100c2af28 chromedriver + 4841256\n17  chromedriver                        0x0000000100c2b0a7 chromedriver + 4841639\n18  chromedriver                        0x0000000100c3c28f chromedriver + 4911759\n19  libsystem_pthread.dylib             0x00007ff816c961d3 _pthread_start + 125\n20  libsystem_pthread.dylib             0x00007ff816c91bd3 thread_start + 15\n"
     ]
    }
   ],
   "source": [
    "#body부분을 잡기 위해 쓸데없이 버튼을 클릭해줌\n",
    "driver.find_element(By.XPATH, '//*[@id=\"_list_scroll_container\"]/div/div/div[1]/div/div/a[2]').click()\n",
    "driver.find_element(By.XPATH, '//*[@id=\"_list_scroll_container\"]/div/div/div[1]/div/div/a[1]').click()\n",
    "\n",
    "#검색결과가 모두 보이지 않기 때문에 page down을 눌러 끝까지 펼쳐준다.\n",
    "for scroll in range(0,30):\n",
    "    driver.find_element(By.TAG_NAME, 'body').send_keys(Keys.PAGE_DOWN)\n",
    "    time.sleep(0.2)"
   ]
  }
 ],
 "metadata": {
  "kernelspec": {
   "display_name": "Python 3 (ipykernel)",
   "language": "python",
   "name": "python3"
  },
  "language_info": {
   "codemirror_mode": {
    "name": "ipython",
    "version": 3
   },
   "file_extension": ".py",
   "mimetype": "text/x-python",
   "name": "python",
   "nbconvert_exporter": "python",
   "pygments_lexer": "ipython3",
   "version": "3.11.1"
  }
 },
 "nbformat": 4,
 "nbformat_minor": 5
}
