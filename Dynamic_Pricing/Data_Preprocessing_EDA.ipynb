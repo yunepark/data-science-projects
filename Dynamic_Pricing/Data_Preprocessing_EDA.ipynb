{
 "cells": [
  {
   "cell_type": "markdown",
   "id": "373bb3d7",
   "metadata": {},
   "source": [
    "### Import Libraries"
   ]
  },
  {
   "cell_type": "code",
   "execution_count": 1,
   "id": "c9b0f45e",
   "metadata": {},
   "outputs": [],
   "source": [
    "import pandas as pd\n",
    "import numpy as np"
   ]
  },
  {
   "cell_type": "markdown",
   "id": "cb583418",
   "metadata": {},
   "source": [
    "### Load Dataset"
   ]
  },
  {
   "cell_type": "code",
   "execution_count": 2,
   "id": "d7335e79",
   "metadata": {},
   "outputs": [],
   "source": [
    "data = pd.read_csv(\"dynamic_pricing.csv\", header=0)"
   ]
  },
  {
   "cell_type": "code",
   "execution_count": 4,
   "id": "1a68abdd",
   "metadata": {},
   "outputs": [
    {
     "name": "stdout",
     "output_type": "stream",
     "text": [
      "<class 'pandas.core.frame.DataFrame'>\n",
      "RangeIndex: 1000 entries, 0 to 999\n",
      "Data columns (total 10 columns):\n",
      " #   Column                   Non-Null Count  Dtype  \n",
      "---  ------                   --------------  -----  \n",
      " 0   Number_of_Riders         1000 non-null   int64  \n",
      " 1   Number_of_Drivers        1000 non-null   int64  \n",
      " 2   Location_Category        1000 non-null   object \n",
      " 3   Customer_Loyalty_Status  1000 non-null   object \n",
      " 4   Number_of_Past_Rides     1000 non-null   int64  \n",
      " 5   Average_Ratings          1000 non-null   float64\n",
      " 6   Time_of_Booking          1000 non-null   object \n",
      " 7   Vehicle_Type             1000 non-null   object \n",
      " 8   Expected_Ride_Duration   1000 non-null   int64  \n",
      " 9   Historical_Cost_of_Ride  1000 non-null   float64\n",
      "dtypes: float64(2), int64(4), object(4)\n",
      "memory usage: 78.3+ KB\n"
     ]
    }
   ],
   "source": [
    "data.info()"
   ]
  },
  {
   "cell_type": "code",
   "execution_count": 5,
   "id": "dfbc0271",
   "metadata": {},
   "outputs": [
    {
     "data": {
      "text/html": [
       "<div>\n",
       "<style scoped>\n",
       "    .dataframe tbody tr th:only-of-type {\n",
       "        vertical-align: middle;\n",
       "    }\n",
       "\n",
       "    .dataframe tbody tr th {\n",
       "        vertical-align: top;\n",
       "    }\n",
       "\n",
       "    .dataframe thead th {\n",
       "        text-align: right;\n",
       "    }\n",
       "</style>\n",
       "<table border=\"1\" class=\"dataframe\">\n",
       "  <thead>\n",
       "    <tr style=\"text-align: right;\">\n",
       "      <th></th>\n",
       "      <th>Number_of_Riders</th>\n",
       "      <th>Number_of_Drivers</th>\n",
       "      <th>Number_of_Past_Rides</th>\n",
       "      <th>Average_Ratings</th>\n",
       "      <th>Expected_Ride_Duration</th>\n",
       "      <th>Historical_Cost_of_Ride</th>\n",
       "    </tr>\n",
       "  </thead>\n",
       "  <tbody>\n",
       "    <tr>\n",
       "      <th>count</th>\n",
       "      <td>1000.000000</td>\n",
       "      <td>1000.000000</td>\n",
       "      <td>1000.000000</td>\n",
       "      <td>1000.000000</td>\n",
       "      <td>1000.00000</td>\n",
       "      <td>1000.000000</td>\n",
       "    </tr>\n",
       "    <tr>\n",
       "      <th>mean</th>\n",
       "      <td>60.372000</td>\n",
       "      <td>27.076000</td>\n",
       "      <td>50.031000</td>\n",
       "      <td>4.257220</td>\n",
       "      <td>99.58800</td>\n",
       "      <td>372.502623</td>\n",
       "    </tr>\n",
       "    <tr>\n",
       "      <th>std</th>\n",
       "      <td>23.701506</td>\n",
       "      <td>19.068346</td>\n",
       "      <td>29.313774</td>\n",
       "      <td>0.435781</td>\n",
       "      <td>49.16545</td>\n",
       "      <td>187.158756</td>\n",
       "    </tr>\n",
       "    <tr>\n",
       "      <th>min</th>\n",
       "      <td>20.000000</td>\n",
       "      <td>5.000000</td>\n",
       "      <td>0.000000</td>\n",
       "      <td>3.500000</td>\n",
       "      <td>10.00000</td>\n",
       "      <td>25.993449</td>\n",
       "    </tr>\n",
       "    <tr>\n",
       "      <th>25%</th>\n",
       "      <td>40.000000</td>\n",
       "      <td>11.000000</td>\n",
       "      <td>25.000000</td>\n",
       "      <td>3.870000</td>\n",
       "      <td>59.75000</td>\n",
       "      <td>221.365202</td>\n",
       "    </tr>\n",
       "    <tr>\n",
       "      <th>50%</th>\n",
       "      <td>60.000000</td>\n",
       "      <td>22.000000</td>\n",
       "      <td>51.000000</td>\n",
       "      <td>4.270000</td>\n",
       "      <td>102.00000</td>\n",
       "      <td>362.019426</td>\n",
       "    </tr>\n",
       "    <tr>\n",
       "      <th>75%</th>\n",
       "      <td>81.000000</td>\n",
       "      <td>38.000000</td>\n",
       "      <td>75.000000</td>\n",
       "      <td>4.632500</td>\n",
       "      <td>143.00000</td>\n",
       "      <td>510.497504</td>\n",
       "    </tr>\n",
       "    <tr>\n",
       "      <th>max</th>\n",
       "      <td>100.000000</td>\n",
       "      <td>89.000000</td>\n",
       "      <td>100.000000</td>\n",
       "      <td>5.000000</td>\n",
       "      <td>180.00000</td>\n",
       "      <td>836.116419</td>\n",
       "    </tr>\n",
       "  </tbody>\n",
       "</table>\n",
       "</div>"
      ],
      "text/plain": [
       "       Number_of_Riders  Number_of_Drivers  Number_of_Past_Rides  \\\n",
       "count       1000.000000        1000.000000           1000.000000   \n",
       "mean          60.372000          27.076000             50.031000   \n",
       "std           23.701506          19.068346             29.313774   \n",
       "min           20.000000           5.000000              0.000000   \n",
       "25%           40.000000          11.000000             25.000000   \n",
       "50%           60.000000          22.000000             51.000000   \n",
       "75%           81.000000          38.000000             75.000000   \n",
       "max          100.000000          89.000000            100.000000   \n",
       "\n",
       "       Average_Ratings  Expected_Ride_Duration  Historical_Cost_of_Ride  \n",
       "count      1000.000000              1000.00000              1000.000000  \n",
       "mean          4.257220                99.58800               372.502623  \n",
       "std           0.435781                49.16545               187.158756  \n",
       "min           3.500000                10.00000                25.993449  \n",
       "25%           3.870000                59.75000               221.365202  \n",
       "50%           4.270000               102.00000               362.019426  \n",
       "75%           4.632500               143.00000               510.497504  \n",
       "max           5.000000               180.00000               836.116419  "
      ]
     },
     "execution_count": 5,
     "metadata": {},
     "output_type": "execute_result"
    }
   ],
   "source": [
    "data.describe()"
   ]
  }
 ],
 "metadata": {
  "kernelspec": {
   "display_name": "Python 3 (ipykernel)",
   "language": "python",
   "name": "python3"
  },
  "language_info": {
   "codemirror_mode": {
    "name": "ipython",
    "version": 3
   },
   "file_extension": ".py",
   "mimetype": "text/x-python",
   "name": "python",
   "nbconvert_exporter": "python",
   "pygments_lexer": "ipython3",
   "version": "3.11.4"
  }
 },
 "nbformat": 4,
 "nbformat_minor": 5
}
